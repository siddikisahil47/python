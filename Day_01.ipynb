{
  "nbformat": 4,
  "nbformat_minor": 0,
  "metadata": {
    "colab": {
      "provenance": [],
      "authorship_tag": "ABX9TyM39GPgr4qsAyfHTw+9oy1t"
    },
    "kernelspec": {
      "name": "python3",
      "display_name": "Python 3"
    },
    "language_info": {
      "name": "python"
    }
  },
  "cells": [
    {
      "cell_type": "markdown",
      "source": [
        "## Write a Program to input a welcome message and print it"
      ],
      "metadata": {
        "id": "j57R5ZhJUR5U"
      }
    },
    {
      "cell_type": "code",
      "execution_count": null,
      "metadata": {
        "colab": {
          "base_uri": "https://localhost:8080/"
        },
        "id": "GJHJOxHL268p",
        "outputId": "4b8bd27e-a0bf-45e5-c83d-3b74b9800a0b"
      },
      "outputs": [
        {
          "output_type": "stream",
          "name": "stdout",
          "text": [
            "Enter your welcome message : hello friends\n",
            "Your Message are  hello friends\n"
          ]
        }
      ],
      "source": [
        "message = input(\"Enter your welcome message : \")\n",
        "\n",
        "print(\"Your Message are\", message)"
      ]
    },
    {
      "cell_type": "markdown",
      "source": [
        "## write a program to obtain three number and print their sum"
      ],
      "metadata": {
        "id": "WILuYKTMUQ2k"
      }
    },
    {
      "cell_type": "code",
      "source": [
        "num1 = int(input(\"Enter First number : \"))\n",
        "num2 = int(input(\"Enter Second number : \"))\n",
        "num3 = int(input(\"Enter Third number : \"))\n",
        "\n",
        "sum = num1 + num2 + num3\n",
        "\n",
        "print(\"Sum of\", num1, num2, \"and\", num3, \"are\", sum)"
      ],
      "metadata": {
        "colab": {
          "base_uri": "https://localhost:8080/"
        },
        "id": "UDltLfF6U7iC",
        "outputId": "624311d0-ae56-402d-bc09-1533e6037b4e"
      },
      "execution_count": null,
      "outputs": [
        {
          "output_type": "stream",
          "name": "stdout",
          "text": [
            "Enter First number : 2\n",
            "Enter Second number : 2\n",
            "Enter Third number : 2\n",
            "Sum of 2 2 and 2 are 6\n"
          ]
        }
      ]
    },
    {
      "cell_type": "markdown",
      "source": [
        "## Write a Program to obtain length and breadth of a rectangle and calculate its area"
      ],
      "metadata": {
        "id": "eDy-k1ACWCxU"
      }
    },
    {
      "cell_type": "code",
      "source": [
        "length = int(input(\"Enter Length : \"))\n",
        "breadth = int(input(\"Enter Breadth : \"))\n",
        "\n",
        "area = length * breadth\n",
        "\n",
        "print(\"Area of Rectangle = Length * Breadth = \", length, \"*\", breadth, \"=\", area)"
      ],
      "metadata": {
        "colab": {
          "base_uri": "https://localhost:8080/"
        },
        "id": "4H-XJ1nXWDOC",
        "outputId": "b8cf392f-6745-4da6-8926-4f004c404c3b"
      },
      "execution_count": null,
      "outputs": [
        {
          "output_type": "stream",
          "name": "stdout",
          "text": [
            "Enter Length : 5\n",
            "Enter Breadth : 6\n",
            "Area of Rectangle = Length * Breadth =  5 * 6 = 30\n"
          ]
        }
      ]
    },
    {
      "cell_type": "markdown",
      "source": [
        "## Write a Program to calculate BMI (Body Mass Index) of a person.\n",
        "\n",
        "---\n",
        "\n",
        "\n",
        "##### Body Mass Index is a simple calculation using a person's height and weight. The Formula is BMI = kg/m^2 where kg is a person's weight in kilograms and m^2 is their height in meters squared."
      ],
      "metadata": {
        "id": "r9xl1MUBXdUT"
      }
    },
    {
      "cell_type": "code",
      "source": [
        "weight = float(input(\"Enter your weight : \"))\n",
        "height = float(input(\"Enter your height : \"))\n",
        "\n",
        "bmi = weight / (height ** 2)\n",
        "\n",
        "print(\"Your BMI are\", bmi)"
      ],
      "metadata": {
        "colab": {
          "base_uri": "https://localhost:8080/"
        },
        "id": "k6Iq36P7Xd1q",
        "outputId": "6a2462a5-2578-45a7-e313-fa9e4422617f"
      },
      "execution_count": null,
      "outputs": [
        {
          "output_type": "stream",
          "name": "stdout",
          "text": [
            "Enter your weight : 66\n",
            "Enter your height :1.6\n",
            "Your BMI are 25.781249999999996\n"
          ]
        }
      ]
    },
    {
      "cell_type": "markdown",
      "source": [
        "## Write a program to input a number and print its cube"
      ],
      "metadata": {
        "id": "ozWZr-k4XPpb"
      }
    },
    {
      "cell_type": "code",
      "source": [
        "num = float(input(\"Enter Number : \"))\n",
        "\n",
        "cube = num ** 3\n",
        "#Alternative_form  num * num * num\n",
        "\n",
        "print(cube, \"is cube of \", num)"
      ],
      "metadata": {
        "colab": {
          "base_uri": "https://localhost:8080/"
        },
        "id": "dGIg8ovoXS3D",
        "outputId": "9604fde8-5e08-439b-b2f7-dae032545751"
      },
      "execution_count": null,
      "outputs": [
        {
          "output_type": "stream",
          "name": "stdout",
          "text": [
            "Enter Number : 5\n",
            "125.0 is cube of  5.0\n"
          ]
        }
      ]
    },
    {
      "cell_type": "markdown",
      "source": [
        "## Write a Program to input a value in kilometers and convert it into miles ( 1 km = 0.621371 miles )"
      ],
      "metadata": {
        "id": "JuyIkhDIZoL6"
      }
    },
    {
      "cell_type": "code",
      "source": [
        "kilometer = float(input(\"Enter Kilometer : \"))\n",
        "per_kilometer = 0.621371\n",
        "\n",
        "miles = kilometer * per_kilometer\n",
        "\n",
        "print(kilometer, \"Km are in \", miles, \"Miles\")"
      ],
      "metadata": {
        "colab": {
          "base_uri": "https://localhost:8080/"
        },
        "id": "m8ScA_0XZ0O7",
        "outputId": "3d004eea-9143-49b5-fac2-1dd6e5b48410"
      },
      "execution_count": null,
      "outputs": [
        {
          "output_type": "stream",
          "name": "stdout",
          "text": [
            "Enter Kilometer : 45\n",
            "45.0 Km are in  27.961695 Miles\n"
          ]
        }
      ]
    },
    {
      "cell_type": "markdown",
      "source": [
        "## Write a program to input  a value in tonnes and convert it into quintals and kilograms.\n",
        "\n",
        "---\n",
        "\n",
        "\n",
        "( 1 tonne - *10* quitals 1 tonne = 1000kgs, 1 quital = 100kgs )"
      ],
      "metadata": {
        "id": "hHouSADrZ1wL"
      }
    },
    {
      "cell_type": "code",
      "source": [
        "tonne = int(input(\"Enter Tonne : \"))\n",
        "\n",
        "quintal = tonne * 10\n",
        "kilograms = tonne * 1000\n",
        "\n",
        "print(tonne, \"Tonnes are\", quintal, \"Quintal &\", kilograms, \"Kilograms\")"
      ],
      "metadata": {
        "colab": {
          "base_uri": "https://localhost:8080/"
        },
        "id": "R5Cwc1CYZ2TD",
        "outputId": "ba70026b-dbe2-4127-bfa7-53df2e1a4d2a"
      },
      "execution_count": null,
      "outputs": [
        {
          "output_type": "stream",
          "name": "stdout",
          "text": [
            "Enter Tonne : 200\n",
            "200 Tonnes are 2000 Quintal & 200000 Kilograms\n"
          ]
        }
      ]
    },
    {
      "cell_type": "markdown",
      "source": [
        "## Write a Program to enter a small poem or poem verse and print it."
      ],
      "metadata": {
        "id": "hcqrKoElZ9o6"
      }
    },
    {
      "cell_type": "code",
      "source": [
        "poem = input(\"Enter Poem : \")\n",
        "\n",
        "print(\"Your entered POEM is : \")\n",
        "print(poem)"
      ],
      "metadata": {
        "id": "Ml3puFwiZ9_C",
        "colab": {
          "base_uri": "https://localhost:8080/"
        },
        "outputId": "685d3ffe-0334-4457-84a9-01fdc6ce5220"
      },
      "execution_count": null,
      "outputs": [
        {
          "output_type": "stream",
          "name": "stdout",
          "text": [
            "Enter Poem : Twinkle Twinkle little star.\n",
            "Your entered POEM is : \n",
            "Twinkle Twinkle little star.\n"
          ]
        }
      ]
    },
    {
      "cell_type": "markdown",
      "source": [
        "## Write a program to input two number and swap them."
      ],
      "metadata": {
        "id": "NUl4SMIrE8a0"
      }
    },
    {
      "cell_type": "code",
      "source": [
        "a = int(input(\"Enter first value : \"))\n",
        "b = int(input(\"Enter Second value : \"))\n",
        "\n",
        "print(\"Original number are : \", a, b)\n",
        "\n",
        "a,b = b,a\n",
        "\n",
        "print(\"After Swap the number\", a , b)"
      ],
      "metadata": {
        "colab": {
          "base_uri": "https://localhost:8080/"
        },
        "id": "LTXkY7dWEy-Y",
        "outputId": "731add34-6e77-494e-f483-fda76360f464"
      },
      "execution_count": null,
      "outputs": [
        {
          "output_type": "stream",
          "name": "stdout",
          "text": [
            "Enter first value : 4\n",
            "Enter Second value : 8\n",
            "Original number are :  4 8\n",
            "After Swap the number 8 4\n"
          ]
        }
      ]
    },
    {
      "cell_type": "markdown",
      "source": [
        "### Write a Program to input three numbers and swap them as this : 1st number becomes the 2nd number, 2nd number becomes the 3rd number and 3rd number becomes the first number.\n"
      ],
      "metadata": {
        "id": "Mm2tVIQCGomA"
      }
    },
    {
      "cell_type": "code",
      "source": [
        "num1 = int(input(\"Enter first number : \"))\n",
        "num2 = int(input(\"Enter second number : \"))\n",
        "num3 = int(input(\"Enter third number : \"))\n",
        "\n",
        "print(\"Original number are\", num1, num2, \"&\", num3)\n",
        "\n",
        "num1, num2, num3 = num2, num3, num1\n",
        "\n",
        "print(\"After Swap the number are \", num1, num2, \"&\", num3)"
      ],
      "metadata": {
        "colab": {
          "base_uri": "https://localhost:8080/"
        },
        "id": "ZUk4bG3tGo9s",
        "outputId": "b169cd90-3e5a-4b6a-da78-3668e63bb5a9"
      },
      "execution_count": null,
      "outputs": [
        {
          "output_type": "stream",
          "name": "stdout",
          "text": [
            "Enter first number : 4\n",
            "Enter second number : 8\n",
            "Enter third number : 0\n",
            "Original number are 4 8 & 0\n",
            "After Swap the number are  8 0 & 4\n"
          ]
        }
      ]
    }
  ]
}